{
 "cells": [
  {
   "cell_type": "code",
   "execution_count": 54,
   "metadata": {
    "collapsed": false
   },
   "outputs": [],
   "source": [
    "# has bird been spotted in more than once in a location may be trying to nest\n",
    "\n",
    "def nesting(string_sightings):\n",
    "  prev_spotted = {}\n",
    "  for location in string_sightings:\n",
    "    if location in prev_spotted:\n",
    "      return (True,location)\n",
    "    prev_spotted[location] = 1\n",
    "  return FALSE\n"
   ]
  },
  {
   "cell_type": "code",
   "execution_count": 57,
   "metadata": {
    "collapsed": false
   },
   "outputs": [
    {
     "data": {
      "text/plain": [
       "(True, 'q')"
      ]
     },
     "execution_count": 57,
     "metadata": {},
     "output_type": "execute_result"
    }
   ],
   "source": [
    "string_sightings=\"vmqqf\"\n",
    "nesting(string_sightings)\n"
   ]
  },
  {
   "cell_type": "code",
   "execution_count": 10,
   "metadata": {
    "collapsed": false
   },
   "outputs": [
    {
     "data": {
      "text/plain": [
       "True"
      ]
     },
     "execution_count": 10,
     "metadata": {},
     "output_type": "execute_result"
    }
   ],
   "source": [
    "# birds spotted in same locations?\n",
    "\n",
    "bird_1=\"qrs\"\n",
    "bird_2=\"rqs\"\n",
    "\n",
    "def locations_same(s1,s2):\n",
    "    for loc in s1:\n",
    "        if loc not in s2:\n",
    "            return False\n",
    "    return True\n",
    "    \n",
    "locations_same(bird_1,bird_2)"
   ]
  },
  {
   "cell_type": "code",
   "execution_count": 16,
   "metadata": {
    "collapsed": true
   },
   "outputs": [],
   "source": [
    "# create a custom dictionary so that if bird not recorded in the dictionary returns 0 instead of key error\n",
    "class my_dict(dict):\n",
    "  def __missing__(self, key): #rewrite missing method\n",
    "    return 0"
   ]
  },
  {
   "cell_type": "code",
   "execution_count": null,
   "metadata": {
    "collapsed": true
   },
   "outputs": [],
   "source": [
    "the_dict=my_dict()\n",
    "the_dict[\"robin\"]=1\n",
    "the_dict[\"swallow\"]=2\n",
    "the_dict"
   ]
  },
  {
   "cell_type": "code",
   "execution_count": 31,
   "metadata": {
    "collapsed": false
   },
   "outputs": [
    {
     "data": {
      "text/plain": [
       "0"
      ]
     },
     "execution_count": 31,
     "metadata": {},
     "output_type": "execute_result"
    }
   ],
   "source": [
    "the_dict[\"flamingo\"]"
   ]
  },
  {
   "cell_type": "code",
   "execution_count": null,
   "metadata": {
    "collapsed": true
   },
   "outputs": [],
   "source": []
  }
 ],
 "metadata": {
  "kernelspec": {
   "display_name": "Python 2",
   "language": "python",
   "name": "python2"
  },
  "language_info": {
   "codemirror_mode": {
    "name": "ipython",
    "version": 2
   },
   "file_extension": ".py",
   "mimetype": "text/x-python",
   "name": "python",
   "nbconvert_exporter": "python",
   "pygments_lexer": "ipython2",
   "version": "2.7.12"
  }
 },
 "nbformat": 4,
 "nbformat_minor": 0
}
